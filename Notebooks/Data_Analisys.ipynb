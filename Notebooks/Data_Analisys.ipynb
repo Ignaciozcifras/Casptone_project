{
 "cells": [
  {
   "cell_type": "markdown",
   "metadata": {},
   "source": [
    "# Data Analisys"
   ]
  },
  {
   "cell_type": "code",
   "execution_count": 6,
   "metadata": {},
   "outputs": [],
   "source": [
    "import pandas as pd\n",
    "import numpy as np\n",
    "import matplotlib.pyplot as plt\n",
    "import seaborn as sns"
   ]
  },
  {
   "cell_type": "code",
   "execution_count": 7,
   "metadata": {},
   "outputs": [
    {
     "data": {
      "text/html": [
       "<div>\n",
       "<style scoped>\n",
       "    .dataframe tbody tr th:only-of-type {\n",
       "        vertical-align: middle;\n",
       "    }\n",
       "\n",
       "    .dataframe tbody tr th {\n",
       "        vertical-align: top;\n",
       "    }\n",
       "\n",
       "    .dataframe thead th {\n",
       "        text-align: right;\n",
       "    }\n",
       "</style>\n",
       "<table border=\"1\" class=\"dataframe\">\n",
       "  <thead>\n",
       "    <tr style=\"text-align: right;\">\n",
       "      <th></th>\n",
       "      <th>Survived</th>\n",
       "      <th>Pclass</th>\n",
       "      <th>Sex</th>\n",
       "      <th>Age</th>\n",
       "      <th>SibSp</th>\n",
       "      <th>Fare</th>\n",
       "      <th>Embarked</th>\n",
       "    </tr>\n",
       "  </thead>\n",
       "  <tbody>\n",
       "    <tr>\n",
       "      <th>0</th>\n",
       "      <td>0</td>\n",
       "      <td>3</td>\n",
       "      <td>1</td>\n",
       "      <td>22.0</td>\n",
       "      <td>1</td>\n",
       "      <td>7.2500</td>\n",
       "      <td>0</td>\n",
       "    </tr>\n",
       "    <tr>\n",
       "      <th>1</th>\n",
       "      <td>1</td>\n",
       "      <td>1</td>\n",
       "      <td>0</td>\n",
       "      <td>38.0</td>\n",
       "      <td>1</td>\n",
       "      <td>71.2833</td>\n",
       "      <td>1</td>\n",
       "    </tr>\n",
       "    <tr>\n",
       "      <th>2</th>\n",
       "      <td>1</td>\n",
       "      <td>3</td>\n",
       "      <td>0</td>\n",
       "      <td>26.0</td>\n",
       "      <td>0</td>\n",
       "      <td>7.9250</td>\n",
       "      <td>0</td>\n",
       "    </tr>\n",
       "    <tr>\n",
       "      <th>3</th>\n",
       "      <td>1</td>\n",
       "      <td>1</td>\n",
       "      <td>0</td>\n",
       "      <td>35.0</td>\n",
       "      <td>1</td>\n",
       "      <td>53.1000</td>\n",
       "      <td>0</td>\n",
       "    </tr>\n",
       "    <tr>\n",
       "      <th>4</th>\n",
       "      <td>0</td>\n",
       "      <td>3</td>\n",
       "      <td>1</td>\n",
       "      <td>35.0</td>\n",
       "      <td>0</td>\n",
       "      <td>8.0500</td>\n",
       "      <td>0</td>\n",
       "    </tr>\n",
       "    <tr>\n",
       "      <th>...</th>\n",
       "      <td>...</td>\n",
       "      <td>...</td>\n",
       "      <td>...</td>\n",
       "      <td>...</td>\n",
       "      <td>...</td>\n",
       "      <td>...</td>\n",
       "      <td>...</td>\n",
       "    </tr>\n",
       "    <tr>\n",
       "      <th>886</th>\n",
       "      <td>0</td>\n",
       "      <td>2</td>\n",
       "      <td>1</td>\n",
       "      <td>27.0</td>\n",
       "      <td>0</td>\n",
       "      <td>13.0000</td>\n",
       "      <td>0</td>\n",
       "    </tr>\n",
       "    <tr>\n",
       "      <th>887</th>\n",
       "      <td>1</td>\n",
       "      <td>1</td>\n",
       "      <td>0</td>\n",
       "      <td>19.0</td>\n",
       "      <td>0</td>\n",
       "      <td>30.0000</td>\n",
       "      <td>0</td>\n",
       "    </tr>\n",
       "    <tr>\n",
       "      <th>888</th>\n",
       "      <td>0</td>\n",
       "      <td>3</td>\n",
       "      <td>0</td>\n",
       "      <td>39.0</td>\n",
       "      <td>1</td>\n",
       "      <td>23.4500</td>\n",
       "      <td>0</td>\n",
       "    </tr>\n",
       "    <tr>\n",
       "      <th>889</th>\n",
       "      <td>1</td>\n",
       "      <td>1</td>\n",
       "      <td>1</td>\n",
       "      <td>26.0</td>\n",
       "      <td>0</td>\n",
       "      <td>30.0000</td>\n",
       "      <td>1</td>\n",
       "    </tr>\n",
       "    <tr>\n",
       "      <th>890</th>\n",
       "      <td>0</td>\n",
       "      <td>3</td>\n",
       "      <td>1</td>\n",
       "      <td>32.0</td>\n",
       "      <td>0</td>\n",
       "      <td>7.7500</td>\n",
       "      <td>2</td>\n",
       "    </tr>\n",
       "  </tbody>\n",
       "</table>\n",
       "<p>891 rows × 7 columns</p>\n",
       "</div>"
      ],
      "text/plain": [
       "     Survived  Pclass  Sex   Age  SibSp     Fare  Embarked\n",
       "0           0       3    1  22.0      1   7.2500         0\n",
       "1           1       1    0  38.0      1  71.2833         1\n",
       "2           1       3    0  26.0      0   7.9250         0\n",
       "3           1       1    0  35.0      1  53.1000         0\n",
       "4           0       3    1  35.0      0   8.0500         0\n",
       "..        ...     ...  ...   ...    ...      ...       ...\n",
       "886         0       2    1  27.0      0  13.0000         0\n",
       "887         1       1    0  19.0      0  30.0000         0\n",
       "888         0       3    0  39.0      1  23.4500         0\n",
       "889         1       1    1  26.0      0  30.0000         1\n",
       "890         0       3    1  32.0      0   7.7500         2\n",
       "\n",
       "[891 rows x 7 columns]"
      ]
     },
     "execution_count": 7,
     "metadata": {},
     "output_type": "execute_result"
    }
   ],
   "source": [
    "titanic_proccesed = pd.read_excel(\"/Users/joseignaciozamora/Desktop/Magister/Analisis de Datos/titanic/TitanicProccesed.xlsx\", index_col = 0)\n",
    "titanic_proccesed"
   ]
  },
  {
   "cell_type": "markdown",
   "metadata": {},
   "source": [
    "# Cantidad de sovrevivientes\n",
    "#### Hacemos un analisis de las variables que nos encontramos dentro del dataset"
   ]
  },
  {
   "cell_type": "code",
   "execution_count": 8,
   "metadata": {},
   "outputs": [
    {
     "name": "stdout",
     "output_type": "stream",
     "text": [
      "La cantidad de sobrevivientes es de 549, equivalente a un 0.62\n"
     ]
    }
   ],
   "source": [
    "#Por ejemplo, la cantidad de sobrevivientes y su proporción del total de personas a bordo durante el accidente.\n",
    "\n",
    "titanic_0 =titanic_proccesed[(titanic_proccesed['Survived']==0)]\n",
    "titanic_0[\"Survived\"].count()\n",
    "\n",
    "print(f'La cantidad de sobrevivientes es de {titanic_0[\"Survived\"].count()}, equivalente a un {round(titanic_0[\"Survived\"].count()/titanic_proccesed[\"Survived\"].count(), 2)}')\n"
   ]
  },
  {
   "cell_type": "code",
   "execution_count": 9,
   "metadata": {},
   "outputs": [
    {
     "data": {
      "text/html": [
       "<div>\n",
       "<style scoped>\n",
       "    .dataframe tbody tr th:only-of-type {\n",
       "        vertical-align: middle;\n",
       "    }\n",
       "\n",
       "    .dataframe tbody tr th {\n",
       "        vertical-align: top;\n",
       "    }\n",
       "\n",
       "    .dataframe thead th {\n",
       "        text-align: right;\n",
       "    }\n",
       "</style>\n",
       "<table border=\"1\" class=\"dataframe\">\n",
       "  <thead>\n",
       "    <tr style=\"text-align: right;\">\n",
       "      <th></th>\n",
       "      <th>Survived</th>\n",
       "      <th>Sex</th>\n",
       "      <th>Age</th>\n",
       "      <th>SibSp</th>\n",
       "      <th>Fare</th>\n",
       "      <th>Embarked</th>\n",
       "    </tr>\n",
       "    <tr>\n",
       "      <th>Pclass</th>\n",
       "      <th></th>\n",
       "      <th></th>\n",
       "      <th></th>\n",
       "      <th></th>\n",
       "      <th></th>\n",
       "      <th></th>\n",
       "    </tr>\n",
       "  </thead>\n",
       "  <tbody>\n",
       "    <tr>\n",
       "      <th>1</th>\n",
       "      <td>216</td>\n",
       "      <td>216</td>\n",
       "      <td>216</td>\n",
       "      <td>216</td>\n",
       "      <td>216</td>\n",
       "      <td>216</td>\n",
       "    </tr>\n",
       "    <tr>\n",
       "      <th>2</th>\n",
       "      <td>184</td>\n",
       "      <td>184</td>\n",
       "      <td>184</td>\n",
       "      <td>184</td>\n",
       "      <td>184</td>\n",
       "      <td>184</td>\n",
       "    </tr>\n",
       "    <tr>\n",
       "      <th>3</th>\n",
       "      <td>491</td>\n",
       "      <td>491</td>\n",
       "      <td>491</td>\n",
       "      <td>491</td>\n",
       "      <td>491</td>\n",
       "      <td>491</td>\n",
       "    </tr>\n",
       "  </tbody>\n",
       "</table>\n",
       "</div>"
      ],
      "text/plain": [
       "        Survived  Sex  Age  SibSp  Fare  Embarked\n",
       "Pclass                                           \n",
       "1            216  216  216    216   216       216\n",
       "2            184  184  184    184   184       184\n",
       "3            491  491  491    491   491       491"
      ]
     },
     "execution_count": 9,
     "metadata": {},
     "output_type": "execute_result"
    },
    {
     "data": {
      "image/png": "[encoded data removed]",
      "text/plain": [
       "<Figure size 432x288 with 1 Axes>"
      ]
     },
     "metadata": {
      "needs_background": "light"
     },
     "output_type": "display_data"
    }
   ],
   "source": [
    "#Vemos la cantidad de personas en la embarcación por clase de ticket\n",
    "\n",
    "titanic_ticket = titanic_proccesed.groupby(titanic_proccesed[\"Pclass\"], axis= 0).count()\n",
    "titanic_ticket[\"Survived\"].plot(kind = \"bar\", title= \"Personas por tipo de ticket\")\n",
    "titanic_ticket"
   ]
  },
  {
   "cell_type": "code",
   "execution_count": 10,
   "metadata": {},
   "outputs": [
    {
     "data": {
      "image/png": "[encoded data removed]",
      "text/plain": [
       "<Figure size 720x360 with 1 Axes>"
      ]
     },
     "metadata": {
      "needs_background": "light"
     },
     "output_type": "display_data"
    }
   ],
   "source": [
    "#Graficamos la misma información pero separada entre sobrevivientes y fallecidos durante el accidente del Titanic para cada clase de Ticket.\n",
    "\n",
    "colores = [\"orange\", \"blue\"]\n",
    "asignar = []\n",
    "ticket = [1,2,3]\n",
    "\n",
    "survived = titanic_proccesed[\"Survived\"].values\n",
    "t_0 = titanic_0 =titanic_proccesed[(titanic_proccesed['Survived']==0)].groupby(titanic_proccesed[\"Pclass\"]).count()\n",
    "t0 = t_0[\"Pclass\"]\n",
    "t_1 = titanic_1 =titanic_proccesed[(titanic_proccesed['Survived']==1)].groupby(titanic_proccesed[\"Pclass\"]).count()\n",
    "t1 = t_1[\"Pclass\"]\n",
    "\n",
    "\n",
    "plt.figure(figsize=(10,5))\n",
    "plt.bar(ticket, t0, color=\"orange\", label = \"Fallecidos\")\n",
    "plt.bar(ticket, t1, color = \"blue\", bottom= t0, label = \"Sobrevivientes\")\n",
    "plt.legend()\n",
    "plt.show()"
   ]
  },
  {
   "cell_type": "markdown",
   "metadata": {},
   "source": [
    "### Podemos ver que la mayor parte (Mas del 50%) de los los fallecidos son personas de 3ra clase, se posible inferir que esto se debió a que la 3ra las cabinas de tercera clase solían estar en la parte baja de la embarcación.\n",
    "\n",
    "### Ahora realizaremos un mapa de calor vara ver la correlacion de las variables, para ello primero tokenizaremos la columna sex y Emarked."
   ]
  },
  {
   "cell_type": "code",
   "execution_count": 17,
   "metadata": {},
   "outputs": [
    {
     "data": {
      "image/png": "[encoded data removed]",
      "text/plain": [
       "<Figure size 360x360 with 2 Axes>"
      ]
     },
     "metadata": {},
     "output_type": "display_data"
    }
   ],
   "source": [
    "#Por otra parte, la variable sexo y Embarked las reemplazamos por valores.\n",
    "# Para ello, creamos una función para que nos agilice la conversión en el set de prueba y entrenamiento.\n",
    "\n",
    "def tokenizar(x):\n",
    "\n",
    "    x['Sex'].replace('female', 0,inplace=True)\n",
    "    x['Sex'].replace('male', 1,inplace=True)\n",
    "    x['Embarked'].replace('S', 0,inplace=True)\n",
    "    x['Embarked'].replace('C', 1,inplace=True)\n",
    "    x['Embarked'].replace('Q', 2,inplace=True)\n",
    "    x[\"Age\"].fillna(\"39\", inplace = True)\n",
    "    x.dropna(inplace=True)\n",
    "tokenizar(titanic_proccesed)\n",
    "\n",
    "#Ahora realizamos un mapa de calor para mirar la correlacion que existe entre las variables Survived y Sex\n",
    "\n",
    "correlacion = titanic_proccesed[[\"Survived\", \"Sex\"]].corr(method = \"pearson\")\n",
    "columns = correlacion.nlargest(10,'Survived').index\n",
    "columns\n",
    "correlacion_map = np.corrcoef(titanic_proccesed[columns].values.T)\n",
    "fig, ax = plt.subplots(figsize = (5,5))\n",
    "sns.set(font_scale=1.0,)\n",
    "heatmap = sns.heatmap(correlacion_map, cbar=True, annot=True, square=True, fmt='.2f', yticklabels=columns.values, xticklabels=columns.values)\n",
    "plt.show()\n"
   ]
  },
  {
   "cell_type": "markdown",
   "metadata": {},
   "source": [
    "### Vemos que la variable Sex tiene una correlación negativa, pero que quiere decir esto? Si reemplazamos los valores por 0 para mujeres y 1 para hombres?\n",
    "\n",
    "Para ello veremos la proporcion de mujeres y hombres que sobrevivieron al desastre."
   ]
  },
  {
   "cell_type": "code",
   "execution_count": 12,
   "metadata": {},
   "outputs": [
    {
     "data": {
      "text/html": [
       "<div>\n",
       "<style scoped>\n",
       "    .dataframe tbody tr th:only-of-type {\n",
       "        vertical-align: middle;\n",
       "    }\n",
       "\n",
       "    .dataframe tbody tr th {\n",
       "        vertical-align: top;\n",
       "    }\n",
       "\n",
       "    .dataframe thead th {\n",
       "        text-align: right;\n",
       "    }\n",
       "</style>\n",
       "<table border=\"1\" class=\"dataframe\">\n",
       "  <thead>\n",
       "    <tr style=\"text-align: right;\">\n",
       "      <th></th>\n",
       "      <th>Survived</th>\n",
       "      <th>Pclass</th>\n",
       "      <th>Age</th>\n",
       "      <th>SibSp</th>\n",
       "      <th>Fare</th>\n",
       "      <th>Embarked</th>\n",
       "    </tr>\n",
       "    <tr>\n",
       "      <th>Sex</th>\n",
       "      <th></th>\n",
       "      <th></th>\n",
       "      <th></th>\n",
       "      <th></th>\n",
       "      <th></th>\n",
       "      <th></th>\n",
       "    </tr>\n",
       "  </thead>\n",
       "  <tbody>\n",
       "    <tr>\n",
       "      <th>0</th>\n",
       "      <td>314</td>\n",
       "      <td>314</td>\n",
       "      <td>314</td>\n",
       "      <td>314</td>\n",
       "      <td>314</td>\n",
       "      <td>314</td>\n",
       "    </tr>\n",
       "    <tr>\n",
       "      <th>1</th>\n",
       "      <td>577</td>\n",
       "      <td>577</td>\n",
       "      <td>577</td>\n",
       "      <td>577</td>\n",
       "      <td>577</td>\n",
       "      <td>577</td>\n",
       "    </tr>\n",
       "  </tbody>\n",
       "</table>\n",
       "</div>"
      ],
      "text/plain": [
       "     Survived  Pclass  Age  SibSp  Fare  Embarked\n",
       "Sex                                              \n",
       "0         314     314  314    314   314       314\n",
       "1         577     577  577    577   577       577"
      ]
     },
     "execution_count": 12,
     "metadata": {},
     "output_type": "execute_result"
    }
   ],
   "source": [
    "# Lo primero que vemos es la cantidad de mujeres y hombres a bordo del titanic al momento del desastre.\n",
    "\n",
    "titanic_sex = titanic_proccesed.groupby(\"Sex\").count()\n",
    "titanic_sex"
   ]
  },
  {
   "cell_type": "code",
   "execution_count": 20,
   "metadata": {},
   "outputs": [
    {
     "data": {
      "text/html": [
       "<div>\n",
       "<style scoped>\n",
       "    .dataframe tbody tr th:only-of-type {\n",
       "        vertical-align: middle;\n",
       "    }\n",
       "\n",
       "    .dataframe tbody tr th {\n",
       "        vertical-align: top;\n",
       "    }\n",
       "\n",
       "    .dataframe thead th {\n",
       "        text-align: right;\n",
       "    }\n",
       "</style>\n",
       "<table border=\"1\" class=\"dataframe\">\n",
       "  <thead>\n",
       "    <tr style=\"text-align: right;\">\n",
       "      <th></th>\n",
       "      <th>Sex</th>\n",
       "      <th>Survived</th>\n",
       "      <th>Count</th>\n",
       "    </tr>\n",
       "  </thead>\n",
       "  <tbody>\n",
       "    <tr>\n",
       "      <th>0</th>\n",
       "      <td>female</td>\n",
       "      <td>0</td>\n",
       "      <td>81</td>\n",
       "    </tr>\n",
       "    <tr>\n",
       "      <th>1</th>\n",
       "      <td>female</td>\n",
       "      <td>1</td>\n",
       "      <td>233</td>\n",
       "    </tr>\n",
       "    <tr>\n",
       "      <th>2</th>\n",
       "      <td>male</td>\n",
       "      <td>0</td>\n",
       "      <td>468</td>\n",
       "    </tr>\n",
       "    <tr>\n",
       "      <th>3</th>\n",
       "      <td>male</td>\n",
       "      <td>1</td>\n",
       "      <td>109</td>\n",
       "    </tr>\n",
       "  </tbody>\n",
       "</table>\n",
       "</div>"
      ],
      "text/plain": [
       "      Sex  Survived  Count\n",
       "0  female         0     81\n",
       "1  female         1    233\n",
       "2    male         0    468\n",
       "3    male         1    109"
      ]
     },
     "execution_count": 20,
     "metadata": {},
     "output_type": "execute_result"
    }
   ],
   "source": [
    "# Agrupamos por fallecidos y sobrevivientes para tener mayor claridad en nuestra visualización.\n",
    "\n",
    "grouptn = titanic_proccesed.groupby([\"Sex\", \"Survived\"]).size().reset_index()\n",
    "grouptn = pd.DataFrame(grouptn)\n",
    "groutn2 = grouptn.rename({0: \"Count\"}, axis = 1)\n",
    "group = groutn2.replace({\"Sex\" :{0 :\"female\", 1: \"male\"}})\n",
    "group\n"
   ]
  },
  {
   "cell_type": "code",
   "execution_count": 15,
   "metadata": {},
   "outputs": [
    {
     "data": {
      "image/png": "[encoded data removed]",
      "text/plain": [
       "<Figure size 432x288 with 1 Axes>"
      ]
     },
     "metadata": {},
     "output_type": "display_data"
    }
   ],
   "source": [
    "x_fem = group[(group[\"Sex\"] == \"female\")][\"Count\"]\n",
    "\n",
    "x_mal = group[(group[\"Sex\"] == \"male\")][\"Count\"]\n",
    "survive = [\"Fellecido\", \"Sobreviviente\"]\n",
    "plt.bar(survive, x_fem, color = \"blue\", label =\"female\")\n",
    "plt.bar(survive, x_mal, bottom= x_fem,color = \"orange\", label = \"male\")\n",
    "plt.legend()\n",
    "plt.show()"
   ]
  },
  {
   "cell_type": "markdown",
   "metadata": {},
   "source": [
    "## Con este ultimo grafico nos queda mucho mas claro lo que el heatmap nos indica, la correlación se ve negativa por que los valores female son = 0, por lo tanto, solo interpretó como sobreviviente a los males = 1. \n",
    "### De todas maneras nos permitió seguir adelante con nuestro analisis y detectar este patrón, que a pesar de que habia mucho menos mujeres que hombres en la embarcación, sobrevivieron el doble, esto pudo deberse a que el plan de emergencia priorizó la evaciuación de niños y mujeres."
   ]
  },
  {
   "cell_type": "markdown",
   "metadata": {},
   "source": []
  }
 ],
 "metadata": {
  "kernelspec": {
   "display_name": "Python 3.9.12 ('base')",
   "language": "python",
   "name": "python3"
  },
  "language_info": {
   "codemirror_mode": {
    "name": "ipython",
    "version": 3
   },
   "file_extension": ".py",
   "mimetype": "text/x-python",
   "name": "python",
   "nbconvert_exporter": "python",
   "pygments_lexer": "ipython3",
   "version": "3.9.12"
  },
  "orig_nbformat": 4,
  "vscode": {
   "interpreter": {
    "hash": "edb6128078aff70b4216a0b0a272873f12ceaac04387e18407c81559f2e47ebb"
   }
  }
 },
 "nbformat": 4,
 "nbformat_minor": 2
}

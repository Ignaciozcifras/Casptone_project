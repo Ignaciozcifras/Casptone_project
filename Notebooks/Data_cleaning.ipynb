{
 "cells": [
  {
   "cell_type": "markdown",
   "metadata": {},
   "source": [
    "# Data Cleaning"
   ]
  },
  {
   "cell_type": "code",
   "execution_count": 2,
   "metadata": {},
   "outputs": [],
   "source": [
    "import pandas as pd\n",
    "import numpy as np"
   ]
  },
  {
   "cell_type": "code",
   "execution_count": 3,
   "metadata": {},
   "outputs": [
    {
     "name": "stdout",
     "output_type": "stream",
     "text": [
      "<class 'pandas.core.frame.DataFrame'>\n",
      "RangeIndex: 891 entries, 0 to 890\n",
      "Data columns (total 12 columns):\n",
      " #   Column       Non-Null Count  Dtype  \n",
      "---  ------       --------------  -----  \n",
      " 0   PassengerId  891 non-null    int64  \n",
      " 1   Survived     891 non-null    int64  \n",
      " 2   Pclass       891 non-null    int64  \n",
      " 3   Name         891 non-null    object \n",
      " 4   Sex          891 non-null    object \n",
      " 5   Age          714 non-null    float64\n",
      " 6   SibSp        891 non-null    int64  \n",
      " 7   Parch        891 non-null    int64  \n",
      " 8   Ticket       891 non-null    object \n",
      " 9   Fare         891 non-null    float64\n",
      " 10  Cabin        204 non-null    object \n",
      " 11  Embarked     889 non-null    object \n",
      "dtypes: float64(2), int64(5), object(5)\n",
      "memory usage: 83.7+ KB\n"
     ]
    }
   ],
   "source": [
    "df_titanic = pd.read_csv(\"/Users/joseignaciozamora/Desktop/Magister/Analisis de Datos/titanic/train.csv\")\n",
    "df_titanic.info()"
   ]
  },
  {
   "cell_type": "code",
   "execution_count": 4,
   "metadata": {},
   "outputs": [],
   "source": [
    "#Primero reemplazaremos los Strings de Sex y Embarked con valores.\n",
    "\n",
    "# Para ello eliminamos primero las variables texto:\n",
    "\n",
    "titanic_train = df_titanic.drop([\"PassengerId\",\"Cabin\",\"Name\",\"Ticket\",\"Parch\"],axis=1)\n",
    "\n",
    "titanic_train['Embarked'] = titanic_train['Embarked'].fillna('C')\n",
    "\n",
    "\n",
    "#Por otra parte, la variable sexo y Embarked las reemplazamos por valores.\n",
    "\n",
    "def tokenizar(x):\n",
    "\n",
    "    x['Sex'].replace('female', 0,inplace=True)\n",
    "\n",
    "    x['Sex'].replace('male', 1,inplace=True)\n",
    "\n",
    "    x['Embarked'].replace('S', 0,inplace=True)\n",
    "\n",
    "    x['Embarked'].replace('C', 1,inplace=True)\n",
    "\n",
    "    x['Embarked'].replace('Q', 2,inplace=True)\n",
    "\n",
    "    x[\"Age\"].fillna(\"39\", inplace = True)\n",
    "\n",
    "    x.dropna(inplace=True)\n",
    "\n",
    "tokenizar(titanic_train)"
   ]
  },
  {
   "cell_type": "code",
   "execution_count": 31,
   "metadata": {},
   "outputs": [],
   "source": [
    "# Escribimos el Excel\n",
    "Titanic_proccesed = pd.ExcelWriter(\"/Users/joseignaciozamora/Desktop/Magister/Analisis de Datos/titanic/TitanicProccesed.xlsx\")\n",
    "  \n",
    "# Escribimos el Dataset en el Excel\n",
    "titanic_train.to_excel(Titanic_proccesed)\n",
    "  \n",
    "# Lo guardamos\n",
    "Titanic_proccesed.save()"
   ]
  },
  {
   "cell_type": "code",
   "execution_count": null,
   "metadata": {},
   "outputs": [],
   "source": []
  }
 ],
 "metadata": {
  "kernelspec": {
   "display_name": "Python 3.9.12 ('base')",
   "language": "python",
   "name": "python3"
  },
  "language_info": {
   "codemirror_mode": {
    "name": "ipython",
    "version": 3
   },
   "file_extension": ".py",
   "mimetype": "text/x-python",
   "name": "python",
   "nbconvert_exporter": "python",
   "pygments_lexer": "ipython3",
   "version": "3.9.12"
  },
  "orig_nbformat": 4,
  "vscode": {
   "interpreter": {
    "hash": "edb6128078aff70b4216a0b0a272873f12ceaac04387e18407c81559f2e47ebb"
   }
  }
 },
 "nbformat": 4,
 "nbformat_minor": 2
}
